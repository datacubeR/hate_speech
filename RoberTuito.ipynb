{
 "cells": [
  {
   "cell_type": "code",
   "execution_count": 1,
   "metadata": {},
   "outputs": [
    {
     "name": "stderr",
     "output_type": "stream",
     "text": [
      "Global seed set to 42\n"
     ]
    }
   ],
   "source": [
    "import os\n",
    "import numpy as np\n",
    "\n",
    "import pytorch_lightning as pl\n",
    "from box import Box\n",
    "\n",
    "from robertuito.trainer import evaluate, predict, train_model\n",
    "from robertuito.utils import create_folds, import_data\n",
    "\n",
    "pl.seed_everything(42, workers=True)\n",
    "\n",
    "# solving forking issues\n",
    "os.environ[\"TOKENIZERS_PARALLELISM\"] = \"false\""
   ]
  },
  {
   "cell_type": "code",
   "execution_count": 2,
   "metadata": {},
   "outputs": [],
   "source": [
    "LABELS = [\n",
    "    \"Odio\",\n",
    "    \"Mujeres\",\n",
    "    \"Comunidad LGBTQ+\",\n",
    "    \"Comunidades Migrantes\",\n",
    "    \"Pueblos Originarios\",\n",
    "]\n",
    "\n",
    "TRAIN_PATH = \"public_data/tweets_train.csv\"\n",
    "TEST_PATH = \"Datathon-2022-full/Datos/tweets_test.csv\"\n",
    "train, test = import_data(TRAIN_PATH, TEST_PATH)\n",
    "train = create_folds(train, LABELS)"
   ]
  },
  {
   "cell_type": "code",
   "execution_count": 3,
   "metadata": {},
   "outputs": [],
   "source": [
    "dm_config = Box(dict(\n",
    "    train = train,\n",
    "    test = test,\n",
    "    labels = LABELS,\n",
    "    batch_size = 32,\n",
    "    tokenizer = 'pysentimiento/robertuito-hate-speech',\n",
    "))\n",
    "\n",
    "model_config = Box(dict(\n",
    "    model_name = 'pysentimiento/robertuito-hate-speech',\n",
    "    dropout = 0.2,\n",
    "    hidden_size = 768,\n",
    "    n_labels = len(LABELS),\n",
    "    train_size = 56,\n",
    "    batch_size = dm_config.batch_size,\n",
    "    warmup=0.2,\n",
    "    w_decay=0.001,\n",
    "    lr = 3e-4\n",
    "))\n",
    "\n",
    "training_config = Box(dict(\n",
    "    max_epochs = 50,\n",
    "    patience = 10,\n",
    "    fast_dev_run=False,\n",
    "    overfit_batches=0\n",
    "))"
   ]
  },
  {
   "cell_type": "code",
   "execution_count": null,
   "metadata": {},
   "outputs": [],
   "source": [
    "%%time\n",
    "score = []\n",
    "for fold in range(5):\n",
    "    trainer, model, dm= train_model([fold], dm_config, model_config, training_config)\n",
    "    f1 = evaluate(trainer, model, dm, threshold = 0.5)\n",
    "\n",
    "    print(f\"Fold {fold} F1: {f1}\")\n",
    "    score.append(f1)"
   ]
  },
  {
   "cell_type": "code",
   "execution_count": null,
   "metadata": {},
   "outputs": [],
   "source": [
    "print(f\"Mean 5 Fold CV Score: {np.mean(score)}\")"
   ]
  },
  {
   "cell_type": "code",
   "execution_count": null,
   "metadata": {},
   "outputs": [],
   "source": [
    "dm_config = Box(dict(\n",
    "    train = train,\n",
    "    test = test,\n",
    "    labels = LABELS[0],\n",
    "    batch_size = 32,\n",
    "    tokenizer = 'pysentimiento/robertuito-hate-speech',\n",
    "))\n",
    "\n",
    "score = []\n",
    "for fold in range(5):\n",
    "    trainer, model, dm= train_model([fold], dm_config, model_config, training_config)\n",
    "    f1 = evaluate(trainer, model, dm, threshold = 0.5, custom=False)\n",
    "\n",
    "    print(f\"Fold {fold} F1: {f1}\")\n",
    "    score.append(f1)\n",
    "    \n",
    "print(f\"Mean 5 Fold CV Score: {np.mean(score)}\")"
   ]
  }
 ],
 "metadata": {
  "kernelspec": {
   "display_name": "kaggle",
   "language": "python",
   "name": "python3"
  },
  "language_info": {
   "codemirror_mode": {
    "name": "ipython",
    "version": 3
   },
   "file_extension": ".py",
   "mimetype": "text/x-python",
   "name": "python",
   "nbconvert_exporter": "python",
   "pygments_lexer": "ipython3",
   "version": "3.7.9"
  },
  "orig_nbformat": 4,
  "vscode": {
   "interpreter": {
    "hash": "675a0b137f74d7d860b3fc58711c736f45facc49eec82aceddc17074e07a94c7"
   }
  }
 },
 "nbformat": 4,
 "nbformat_minor": 2
}
