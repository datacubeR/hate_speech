{
 "cells": [
  {
   "cell_type": "code",
   "execution_count": 5,
   "metadata": {},
   "outputs": [
    {
     "name": "stdout",
     "output_type": "stream",
     "text": [
      "The autoreload extension is already loaded. To reload it, use:\n",
      "  %reload_ext autoreload\n"
     ]
    }
   ],
   "source": [
    "%load_ext autoreload\n",
    "%autoreload 2"
   ]
  },
  {
   "attachments": {},
   "cell_type": "markdown",
   "metadata": {},
   "source": [
    "# Importación de los Datos"
   ]
  },
  {
   "cell_type": "code",
   "execution_count": 6,
   "metadata": {},
   "outputs": [
    {
     "name": "stderr",
     "output_type": "stream",
     "text": [
      "\u001b[32m2023-06-14 19:38:55.666\u001b[0m | \u001b[1mINFO    \u001b[0m | \u001b[36mutils.utilities\u001b[0m:\u001b[36mimport_data\u001b[0m:\u001b[36m12\u001b[0m - \u001b[1mDatos de Entrenamiento y Test cargados correctamente...\u001b[0m\n",
      "\u001b[32m2023-06-14 19:38:55.667\u001b[0m | \u001b[1mINFO    \u001b[0m | \u001b[36mutils.utilities\u001b[0m:\u001b[36mimport_data\u001b[0m:\u001b[36m13\u001b[0m - \u001b[1mTrain: (2256, 9), Test: (2291, 9)\u001b[0m\n"
     ]
    }
   ],
   "source": [
    "from utils import import_data, validation_train, full_train\n",
    "from sklearn.ensemble import ExtraTreesClassifier, StackingClassifier\n",
    "from xgboost import XGBClassifier\n",
    "from catboost import CatBoostClassifier\n",
    "from sklearn.linear_model import LogisticRegression\n",
    "from sklearn.neural_network import MLPClassifier\n",
    "from loguru import logger\n",
    "\n",
    "RANDOM_STATE = 42\n",
    "df_train, df_test, stopwords = import_data()\n",
    "\n",
    "LABELS = [\n",
    "    \"Odio\",\n",
    "    \"Mujeres\",\n",
    "    \"Comunidad LGBTQ+\",\n",
    "    \"Comunidades Migrantes\",\n",
    "    \"Pueblos Originarios\",\n",
    "]\n"
   ]
  },
  {
   "attachments": {},
   "cell_type": "markdown",
   "metadata": {},
   "source": [
    "## Definición de Modelos"
   ]
  },
  {
   "cell_type": "code",
   "execution_count": 7,
   "metadata": {},
   "outputs": [],
   "source": [
    "et = ExtraTreesClassifier(n_estimators=500, n_jobs=-1, random_state=RANDOM_STATE)\n",
    "cb = CatBoostClassifier(\n",
    "    n_estimators=500, thread_count=-1, random_state=RANDOM_STATE, verbose=False\n",
    ")\n",
    "xgb = XGBClassifier(n_estimators=500, n_jobs=-1, random_state=RANDOM_STATE)\n",
    "lr = LogisticRegression(random_state=RANDOM_STATE)\n",
    "mlp = MLPClassifier(\n",
    "    hidden_layer_sizes=(64, 32),\n",
    "    activation=\"relu\",\n",
    "    solver=\"adam\",\n",
    "    random_state=RANDOM_STATE,\n",
    "    alpha=0.1,\n",
    ")\n",
    "\n",
    "estimators = [(\"et\", et), (\"cb\", cb), (\"xgb\", xgb), (\"lr\", lr), (\"mlp\", mlp)]\n",
    "\n",
    "hate_stack = StackingClassifier(\n",
    "    estimators=estimators, final_estimator=LogisticRegression(random_state=42), cv=3\n",
    ")\n"
   ]
  },
  {
   "attachments": {},
   "cell_type": "markdown",
   "metadata": {},
   "source": [
    "## Esquema de Validación"
   ]
  },
  {
   "cell_type": "code",
   "execution_count": 8,
   "metadata": {},
   "outputs": [
    {
     "name": "stdout",
     "output_type": "stream",
     "text": [
      "Train Score fold 1: 0.9992974418134202\n",
      "Validation Score fold 1: 0.7690925562468738\n",
      "--------------------------------------------\n",
      "Train Score fold 2: 0.9986517262769286\n",
      "Validation Score fold 2: 0.8049551199392759\n",
      "--------------------------------------------\n",
      "Train Score fold 3: 0.9994154555206065\n",
      "Validation Score fold 3: 0.806837224787222\n",
      "--------------------------------------------\n",
      "Train Score fold 4: 0.9997538158542589\n",
      "Validation Score fold 4: 0.796186917671002\n",
      "--------------------------------------------\n",
      "Train Score fold 5: 1.0\n",
      "Validation Score fold 5: 0.8177478834597189\n",
      "--------------------------------------------\n",
      "Stacking Results:\n",
      "Mean Training Score: 0.9994236878930428\n",
      "SD Training Score: 0.0004589228032538586\n",
      "Mean Validation Score: 0.7989639404208184\n",
      "SD Validation Score: 0.016436123646685594\n",
      "Mean Precision Train Score: 0.9994346702453265\n",
      "SD Precision Train Score: 0.0006287698287160303\n",
      "Mean Precision Validation Score: 0.8790885981248543\n",
      "SD Precision Validation Score: 0.006223935806222798\n",
      "Mean Recall Train Score: 0.9995246015364861\n",
      "SD Recall Train Score: 0.00042637276661902114\n",
      "Mean Recall Validation Score: 0.7387118240434579\n",
      "SD Recall Validation Score: 0.02121214078333721\n"
     ]
    }
   ],
   "source": [
    "dict_results = validation_train(\n",
    "    df_train, hate_stack, LABELS, stopwords, random_state=RANDOM_STATE, verbose=True\n",
    ")\n",
    "print(f\"Stacking Results:\")\n",
    "print(f\"Mean Training Score: {dict_results['mean_train_score']}\")\n",
    "print(f\"SD Training Score: {dict_results['sd_train_score']}\")\n",
    "print(f\"Mean Validation Score: {dict_results['mean_val_score']}\")\n",
    "print(f\"SD Validation Score: {dict_results['sd_val_score']}\")\n",
    "print(f\"Mean Precision Train Score: {dict_results['mean_precision_train_score']}\")\n",
    "print(f\"SD Precision Train Score: {dict_results['sd_precision_train_score']}\")\n",
    "print(f\"Mean Precision Validation Score: {dict_results['mean_precision_val_score']}\")\n",
    "print(f\"SD Precision Validation Score: {dict_results['sd_precision_val_score']}\")\n",
    "print(f\"Mean Recall Train Score: {dict_results['mean_recall_train_score']}\")\n",
    "print(f\"SD Recall Train Score: {dict_results['sd_recall_train_score']}\")\n",
    "print(f\"Mean Recall Validation Score: {dict_results['mean_recall_val_score']}\")\n",
    "print(f\"SD Recall Validation Score: {dict_results['sd_recall_val_score']}\")\n"
   ]
  },
  {
   "attachments": {},
   "cell_type": "markdown",
   "metadata": {},
   "source": [
    "## Full Train"
   ]
  },
  {
   "cell_type": "code",
   "execution_count": 9,
   "metadata": {},
   "outputs": [
    {
     "name": "stdout",
     "output_type": "stream",
     "text": [
      "Stacking Results:\n",
      "Test Score: 0.8175373271622297\n",
      "Test Precision: 0.7838088936814132\n",
      "Test Recall: 0.8610952188880378\n"
     ]
    }
   ],
   "source": [
    "dict_results = full_train(df_train, df_test, hate_stack, LABELS, stopwords)\n",
    "print(f\"Stacking Results:\")\n",
    "print(f\"Test Score: {dict_results['test_score']}\")\n",
    "print(f\"Test Precision: {dict_results['test_precision']}\")\n",
    "print(f\"Test Recall: {dict_results['test_recall']}\")\n"
   ]
  }
 ],
 "metadata": {
  "kernelspec": {
   "display_name": "base",
   "language": "python",
   "name": "python3"
  },
  "language_info": {
   "codemirror_mode": {
    "name": "ipython",
    "version": 3
   },
   "file_extension": ".py",
   "mimetype": "text/x-python",
   "name": "python",
   "nbconvert_exporter": "python",
   "pygments_lexer": "ipython3",
   "version": "3.8.5"
  },
  "orig_nbformat": 4
 },
 "nbformat": 4,
 "nbformat_minor": 2
}
